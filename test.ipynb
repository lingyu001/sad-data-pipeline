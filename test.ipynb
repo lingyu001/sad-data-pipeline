{
 "cells": [
  {
   "cell_type": "code",
   "execution_count": 1,
   "id": "78c3e999-d845-49a4-9b91-a01141f57efa",
   "metadata": {},
   "outputs": [],
   "source": [
    "import pandas as pd\n",
    "import yfinance as yf"
   ]
  },
  {
   "cell_type": "code",
   "execution_count": 2,
   "id": "d857b187-3b20-4687-937d-4252c38c34a6",
   "metadata": {},
   "outputs": [
    {
     "name": "stdout",
     "output_type": "stream",
     "text": [
      "  Symbol             Security             GICS Sector  \\\n",
      "0    MMM                   3M             Industrials   \n",
      "1    AOS          A. O. Smith             Industrials   \n",
      "2    ABT  Abbott Laboratories             Health Care   \n",
      "3   ABBV               AbbVie             Health Care   \n",
      "4    ACN            Accenture  Information Technology   \n",
      "\n",
      "                GICS Sub-Industry    Headquarters Location  Date added  \\\n",
      "0        Industrial Conglomerates    Saint Paul, Minnesota  1957-03-04   \n",
      "1               Building Products     Milwaukee, Wisconsin  2017-07-26   \n",
      "2           Health Care Equipment  North Chicago, Illinois  1957-03-04   \n",
      "3                   Biotechnology  North Chicago, Illinois  2012-12-31   \n",
      "4  IT Consulting & Other Services          Dublin, Ireland  2011-07-06   \n",
      "\n",
      "       CIK      Founded  \n",
      "0    66740         1902  \n",
      "1    91142         1916  \n",
      "2     1800         1888  \n",
      "3  1551152  2013 (1888)  \n",
      "4  1467373         1989  \n"
     ]
    }
   ],
   "source": [
    "tickers = pd.read_html(\n",
    "    'https://en.wikipedia.org/wiki/List_of_S%26P_500_companies')[0]\n",
    "print(tickers.head())"
   ]
  },
  {
   "cell_type": "code",
   "execution_count": 4,
   "id": "877f52bf-61cf-4eaa-8f81-76f01f8aa707",
   "metadata": {},
   "outputs": [],
   "source": [
    "def fetch_stock_history(symbol: str, start: str, end: str) -> pd.DataFrame:\n",
    "    try:\n",
    "        df = yf.download(symbol, start=start, end=end, progress=False, auto_adjust=False)\n",
    "        print(df)\n",
    "        if df.empty:\n",
    "            raise ValueError(f\"No data returned for {symbol}\")\n",
    "        df = df.reset_index()\n",
    "        df['Symbol'] = symbol\n",
    "        df.rename(columns={\n",
    "            'Date': 'date',\n",
    "            'Open': 'open',\n",
    "            'High': 'high',\n",
    "            'Low': 'low',\n",
    "            'Close': 'close',\n",
    "            'Adj Close': 'adj_close',\n",
    "            'Volume': 'volume',\n",
    "        }, inplace=True)\n",
    "        return df[['Symbol', 'date', 'open', 'high', 'low', 'close', 'adj_close', 'volume']]\n",
    "    except Exception as e:\n",
    "        logging.error(f\"Error fetching data for {symbol}: {e}\")\n",
    "        raise"
   ]
  },
  {
   "cell_type": "code",
   "execution_count": 19,
   "id": "296a47ce-6665-4d9f-b9b8-ed3119aa3694",
   "metadata": {},
   "outputs": [],
   "source": [
    "df = fetch_stock_history(\"AAPL\", '2022-07-19', '2025-07-19')"
   ]
  },
  {
   "cell_type": "code",
   "execution_count": 26,
   "id": "840261a1-3cc4-48ef-a7e7-0356a508af9a",
   "metadata": {},
   "outputs": [
    {
     "data": {
      "text/plain": [
       "(MultiIndex([(   'Symbol',     ''),\n",
       "             (     'date',     ''),\n",
       "             (     'open', 'AAPL'),\n",
       "             (     'high', 'AAPL'),\n",
       "             (      'low', 'AAPL'),\n",
       "             (    'close', 'AAPL'),\n",
       "             ('adj_close', 'AAPL'),\n",
       "             (   'volume', 'AAPL')],\n",
       "            names=['Price', 'Ticker']),\n",
       " Index(['Symbol', 'date', 'open', 'high', 'low', 'close', 'adj_close',\n",
       "        'volume'],\n",
       "       dtype='object', name='Price'))"
      ]
     },
     "execution_count": 26,
     "metadata": {},
     "output_type": "execute_result"
    }
   ],
   "source": [
    "df.columns, df.columns.droplevel(1)"
   ]
  },
  {
   "cell_type": "code",
   "execution_count": 17,
   "id": "83b9d055-526e-4225-a376-fcbf8671e27b",
   "metadata": {},
   "outputs": [
    {
     "data": {
      "text/plain": [
       "(datetime.date(2025, 7, 19), '2025-07-19')"
      ]
     },
     "execution_count": 17,
     "metadata": {},
     "output_type": "execute_result"
    }
   ],
   "source": [
    "from datetime import datetime, timedelta\n",
    "end_date = datetime.today().date()\n",
    "end_date, str(end_date)"
   ]
  },
  {
   "cell_type": "code",
   "execution_count": 9,
   "id": "29be4337-3c43-46c4-b581-3d2d85fe474c",
   "metadata": {},
   "outputs": [
    {
     "name": "stderr",
     "output_type": "stream",
     "text": [
      "C:\\Users\\liuxi\\AppData\\Local\\Temp\\ipykernel_63016\\473510423.py:7: FutureWarning: YF.download() has changed argument auto_adjust default to True\n",
      "  df = yf.download(\"BF\", start='2014-01-01', end='2023-12-31', interval='1d')\n",
      "[*********************100%***********************]  1 of 1 completed\n",
      "\n",
      "1 Failed download:\n",
      "['BF']: YFPricesMissingError('possibly delisted; no price data found  (1d 2014-01-01 -> 2023-12-31)')\n"
     ]
    }
   ],
   "source": [
    "# symbol = 'AMZN'\n",
    "start_date = '2022-01-01'\n",
    "end_date = '2025-07-19'\n",
    "# df = yf.download('AAPL')\n",
    "\n",
    "# df = yf.download(\"AAPL\", period=\"5y\", interval=\"1d\")\n",
    "df = yf.download(\"BF\", start='2014-01-01', end='2023-12-31', interval='1d')"
   ]
  },
  {
   "cell_type": "code",
   "execution_count": 5,
   "id": "0248cafc-e858-4b4f-ae33-80d017a02920",
   "metadata": {},
   "outputs": [],
   "source": [
    "df.columns = df.columns.droplevel(1)"
   ]
  },
  {
   "cell_type": "code",
   "execution_count": 6,
   "id": "c2fe6a31-8ec8-40d5-a8f4-207aeecb97ce",
   "metadata": {},
   "outputs": [
    {
     "data": {
      "text/html": [
       "<div>\n",
       "<style scoped>\n",
       "    .dataframe tbody tr th:only-of-type {\n",
       "        vertical-align: middle;\n",
       "    }\n",
       "\n",
       "    .dataframe tbody tr th {\n",
       "        vertical-align: top;\n",
       "    }\n",
       "\n",
       "    .dataframe thead th {\n",
       "        text-align: right;\n",
       "    }\n",
       "</style>\n",
       "<table border=\"1\" class=\"dataframe\">\n",
       "  <thead>\n",
       "    <tr style=\"text-align: right;\">\n",
       "      <th>Price</th>\n",
       "      <th>Adj Close</th>\n",
       "      <th>Close</th>\n",
       "      <th>High</th>\n",
       "      <th>Low</th>\n",
       "      <th>Open</th>\n",
       "      <th>Volume</th>\n",
       "    </tr>\n",
       "    <tr>\n",
       "      <th>Date</th>\n",
       "      <th></th>\n",
       "      <th></th>\n",
       "      <th></th>\n",
       "      <th></th>\n",
       "      <th></th>\n",
       "      <th></th>\n",
       "    </tr>\n",
       "  </thead>\n",
       "  <tbody>\n",
       "  </tbody>\n",
       "</table>\n",
       "</div>"
      ],
      "text/plain": [
       "Empty DataFrame\n",
       "Columns: [Adj Close, Close, High, Low, Open, Volume]\n",
       "Index: []"
      ]
     },
     "execution_count": 6,
     "metadata": {},
     "output_type": "execute_result"
    }
   ],
   "source": [
    "yf.download(t)"
   ]
  },
  {
   "cell_type": "code",
   "execution_count": null,
   "id": "dab736af-b2e3-4dd9-a1e3-67ef6b25c5b5",
   "metadata": {},
   "outputs": [],
   "source": []
  }
 ],
 "metadata": {
  "kernelspec": {
   "display_name": "Python 3 (ipykernel)",
   "language": "python",
   "name": "python3"
  },
  "language_info": {
   "codemirror_mode": {
    "name": "ipython",
    "version": 3
   },
   "file_extension": ".py",
   "mimetype": "text/x-python",
   "name": "python",
   "nbconvert_exporter": "python",
   "pygments_lexer": "ipython3",
   "version": "3.13.5"
  }
 },
 "nbformat": 4,
 "nbformat_minor": 5
}
